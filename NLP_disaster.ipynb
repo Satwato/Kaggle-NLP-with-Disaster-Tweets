{
  "nbformat": 4,
  "nbformat_minor": 0,
  "metadata": {
    "colab": {
      "name": "NLP_disaster",
      "provenance": [],
      "collapsed_sections": [],
      "authorship_tag": "ABX9TyOYTESg6sWLSzF/9k7TGppd",
      "include_colab_link": true
    },
    "kernelspec": {
      "name": "python3",
      "display_name": "Python 3"
    }
  },
  "cells": [
    {
      "cell_type": "markdown",
      "metadata": {
        "id": "view-in-github",
        "colab_type": "text"
      },
      "source": [
        "<a href=\"https://colab.research.google.com/github/Satwato/Kaggle-NLP-with-Disaster-Tweets/blob/master/NLP_disaster.ipynb\" target=\"_parent\"><img src=\"https://colab.research.google.com/assets/colab-badge.svg\" alt=\"Open In Colab\"/></a>"
      ]
    },
    {
      "cell_type": "code",
      "metadata": {
        "id": "ub2CHFxttoBF",
        "colab_type": "code",
        "outputId": "ee167391-90c3-4658-a382-b3253f1e6395",
        "colab": {
          "base_uri": "https://localhost:8080/",
          "height": 35
        }
      },
      "source": [
        "import pandas as pd\n",
        "import numpy as np\n",
        "try:\n",
        "    # %tensorflow_version only exists in Colab.\n",
        "    %tensorflow_version 2.x\n",
        "    !pip install -q -U tensorflow-addons\n",
        "    IS_COLAB = True\n",
        "except Exception:\n",
        "    IS_COLAB = False\n",
        "\n",
        "# TensorFlow ≥2.0 is required\n",
        "import tensorflow as tf\n",
        "from tensorflow import keras\n",
        "np.random.seed(42)\n",
        "tf.random.set_seed(42)\n",
        "\n",
        "# To plot pretty figures\n",
        "%matplotlib inline\n",
        "import matplotlib as mpl\n",
        "import matplotlib.pyplot as plt\n",
        "mpl.rc('axes', labelsize=14)\n",
        "mpl.rc('xtick', labelsize=12)\n",
        "mpl.rc('ytick', labelsize=12)"
      ],
      "execution_count": 0,
      "outputs": [
        {
          "output_type": "stream",
          "text": [
            "TensorFlow 2.x selected.\n"
          ],
          "name": "stdout"
        }
      ]
    },
    {
      "cell_type": "code",
      "metadata": {
        "id": "bthkUUcntxhQ",
        "colab_type": "code",
        "colab": {}
      },
      "source": [
        "train= pd.read_csv(\"https://github.com/Satwato/Kaggle-NLP-with-Disaster-Tweets/raw/master/train.csv\")\n",
        "test= pd.read_csv(\"https://github.com/Satwato/Kaggle-NLP-with-Disaster-Tweets/raw/master/test.csv\")\n",
        "success= pd.read_csv(\"https://github.com/Satwato/Kaggle-NLP-with-Disaster-Tweets/raw/master/sample_submission.csv\")"
      ],
      "execution_count": 0,
      "outputs": []
    },
    {
      "cell_type": "code",
      "metadata": {
        "id": "F26vnOHhuKj5",
        "colab_type": "code",
        "outputId": "e9be1e8f-c6d0-43e1-aec7-41f32dd5d988",
        "colab": {
          "base_uri": "https://localhost:8080/",
          "height": 424
        }
      },
      "source": [
        "train"
      ],
      "execution_count": 0,
      "outputs": [
        {
          "output_type": "execute_result",
          "data": {
            "text/html": [
              "<div>\n",
              "<style scoped>\n",
              "    .dataframe tbody tr th:only-of-type {\n",
              "        vertical-align: middle;\n",
              "    }\n",
              "\n",
              "    .dataframe tbody tr th {\n",
              "        vertical-align: top;\n",
              "    }\n",
              "\n",
              "    .dataframe thead th {\n",
              "        text-align: right;\n",
              "    }\n",
              "</style>\n",
              "<table border=\"1\" class=\"dataframe\">\n",
              "  <thead>\n",
              "    <tr style=\"text-align: right;\">\n",
              "      <th></th>\n",
              "      <th>id</th>\n",
              "      <th>keyword</th>\n",
              "      <th>location</th>\n",
              "      <th>text</th>\n",
              "      <th>target</th>\n",
              "    </tr>\n",
              "  </thead>\n",
              "  <tbody>\n",
              "    <tr>\n",
              "      <th>0</th>\n",
              "      <td>1</td>\n",
              "      <td>NaN</td>\n",
              "      <td>NaN</td>\n",
              "      <td>Our Deeds are the Reason of this #earthquake M...</td>\n",
              "      <td>1</td>\n",
              "    </tr>\n",
              "    <tr>\n",
              "      <th>1</th>\n",
              "      <td>4</td>\n",
              "      <td>NaN</td>\n",
              "      <td>NaN</td>\n",
              "      <td>Forest fire near La Ronge Sask. Canada</td>\n",
              "      <td>1</td>\n",
              "    </tr>\n",
              "    <tr>\n",
              "      <th>2</th>\n",
              "      <td>5</td>\n",
              "      <td>NaN</td>\n",
              "      <td>NaN</td>\n",
              "      <td>All residents asked to 'shelter in place' are ...</td>\n",
              "      <td>1</td>\n",
              "    </tr>\n",
              "    <tr>\n",
              "      <th>3</th>\n",
              "      <td>6</td>\n",
              "      <td>NaN</td>\n",
              "      <td>NaN</td>\n",
              "      <td>13,000 people receive #wildfires evacuation or...</td>\n",
              "      <td>1</td>\n",
              "    </tr>\n",
              "    <tr>\n",
              "      <th>4</th>\n",
              "      <td>7</td>\n",
              "      <td>NaN</td>\n",
              "      <td>NaN</td>\n",
              "      <td>Just got sent this photo from Ruby #Alaska as ...</td>\n",
              "      <td>1</td>\n",
              "    </tr>\n",
              "    <tr>\n",
              "      <th>...</th>\n",
              "      <td>...</td>\n",
              "      <td>...</td>\n",
              "      <td>...</td>\n",
              "      <td>...</td>\n",
              "      <td>...</td>\n",
              "    </tr>\n",
              "    <tr>\n",
              "      <th>7608</th>\n",
              "      <td>10869</td>\n",
              "      <td>NaN</td>\n",
              "      <td>NaN</td>\n",
              "      <td>Two giant cranes holding a bridge collapse int...</td>\n",
              "      <td>1</td>\n",
              "    </tr>\n",
              "    <tr>\n",
              "      <th>7609</th>\n",
              "      <td>10870</td>\n",
              "      <td>NaN</td>\n",
              "      <td>NaN</td>\n",
              "      <td>@aria_ahrary @TheTawniest The out of control w...</td>\n",
              "      <td>1</td>\n",
              "    </tr>\n",
              "    <tr>\n",
              "      <th>7610</th>\n",
              "      <td>10871</td>\n",
              "      <td>NaN</td>\n",
              "      <td>NaN</td>\n",
              "      <td>M1.94 [01:04 UTC]?5km S of Volcano Hawaii. htt...</td>\n",
              "      <td>1</td>\n",
              "    </tr>\n",
              "    <tr>\n",
              "      <th>7611</th>\n",
              "      <td>10872</td>\n",
              "      <td>NaN</td>\n",
              "      <td>NaN</td>\n",
              "      <td>Police investigating after an e-bike collided ...</td>\n",
              "      <td>1</td>\n",
              "    </tr>\n",
              "    <tr>\n",
              "      <th>7612</th>\n",
              "      <td>10873</td>\n",
              "      <td>NaN</td>\n",
              "      <td>NaN</td>\n",
              "      <td>The Latest: More Homes Razed by Northern Calif...</td>\n",
              "      <td>1</td>\n",
              "    </tr>\n",
              "  </tbody>\n",
              "</table>\n",
              "<p>7613 rows × 5 columns</p>\n",
              "</div>"
            ],
            "text/plain": [
              "         id keyword  ...                                               text target\n",
              "0         1     NaN  ...  Our Deeds are the Reason of this #earthquake M...      1\n",
              "1         4     NaN  ...             Forest fire near La Ronge Sask. Canada      1\n",
              "2         5     NaN  ...  All residents asked to 'shelter in place' are ...      1\n",
              "3         6     NaN  ...  13,000 people receive #wildfires evacuation or...      1\n",
              "4         7     NaN  ...  Just got sent this photo from Ruby #Alaska as ...      1\n",
              "...     ...     ...  ...                                                ...    ...\n",
              "7608  10869     NaN  ...  Two giant cranes holding a bridge collapse int...      1\n",
              "7609  10870     NaN  ...  @aria_ahrary @TheTawniest The out of control w...      1\n",
              "7610  10871     NaN  ...  M1.94 [01:04 UTC]?5km S of Volcano Hawaii. htt...      1\n",
              "7611  10872     NaN  ...  Police investigating after an e-bike collided ...      1\n",
              "7612  10873     NaN  ...  The Latest: More Homes Razed by Northern Calif...      1\n",
              "\n",
              "[7613 rows x 5 columns]"
            ]
          },
          "metadata": {
            "tags": []
          },
          "execution_count": 40
        }
      ]
    },
    {
      "cell_type": "code",
      "metadata": {
        "id": "u2ROWA_ruNzJ",
        "colab_type": "code",
        "outputId": "246e1f50-dfd3-42ca-e1a2-e57c33ba0e19",
        "colab": {
          "base_uri": "https://localhost:8080/",
          "height": 424
        }
      },
      "source": [
        "test"
      ],
      "execution_count": 0,
      "outputs": [
        {
          "output_type": "execute_result",
          "data": {
            "text/html": [
              "<div>\n",
              "<style scoped>\n",
              "    .dataframe tbody tr th:only-of-type {\n",
              "        vertical-align: middle;\n",
              "    }\n",
              "\n",
              "    .dataframe tbody tr th {\n",
              "        vertical-align: top;\n",
              "    }\n",
              "\n",
              "    .dataframe thead th {\n",
              "        text-align: right;\n",
              "    }\n",
              "</style>\n",
              "<table border=\"1\" class=\"dataframe\">\n",
              "  <thead>\n",
              "    <tr style=\"text-align: right;\">\n",
              "      <th></th>\n",
              "      <th>id</th>\n",
              "      <th>keyword</th>\n",
              "      <th>location</th>\n",
              "      <th>text</th>\n",
              "    </tr>\n",
              "  </thead>\n",
              "  <tbody>\n",
              "    <tr>\n",
              "      <th>0</th>\n",
              "      <td>0</td>\n",
              "      <td>NaN</td>\n",
              "      <td>NaN</td>\n",
              "      <td>Just happened a terrible car crash</td>\n",
              "    </tr>\n",
              "    <tr>\n",
              "      <th>1</th>\n",
              "      <td>2</td>\n",
              "      <td>NaN</td>\n",
              "      <td>NaN</td>\n",
              "      <td>Heard about #earthquake is different cities, s...</td>\n",
              "    </tr>\n",
              "    <tr>\n",
              "      <th>2</th>\n",
              "      <td>3</td>\n",
              "      <td>NaN</td>\n",
              "      <td>NaN</td>\n",
              "      <td>there is a forest fire at spot pond, geese are...</td>\n",
              "    </tr>\n",
              "    <tr>\n",
              "      <th>3</th>\n",
              "      <td>9</td>\n",
              "      <td>NaN</td>\n",
              "      <td>NaN</td>\n",
              "      <td>Apocalypse lighting. #Spokane #wildfires</td>\n",
              "    </tr>\n",
              "    <tr>\n",
              "      <th>4</th>\n",
              "      <td>11</td>\n",
              "      <td>NaN</td>\n",
              "      <td>NaN</td>\n",
              "      <td>Typhoon Soudelor kills 28 in China and Taiwan</td>\n",
              "    </tr>\n",
              "    <tr>\n",
              "      <th>...</th>\n",
              "      <td>...</td>\n",
              "      <td>...</td>\n",
              "      <td>...</td>\n",
              "      <td>...</td>\n",
              "    </tr>\n",
              "    <tr>\n",
              "      <th>3258</th>\n",
              "      <td>10861</td>\n",
              "      <td>NaN</td>\n",
              "      <td>NaN</td>\n",
              "      <td>EARTHQUAKE SAFETY LOS ANGELES ÛÒ SAFETY FASTE...</td>\n",
              "    </tr>\n",
              "    <tr>\n",
              "      <th>3259</th>\n",
              "      <td>10865</td>\n",
              "      <td>NaN</td>\n",
              "      <td>NaN</td>\n",
              "      <td>Storm in RI worse than last hurricane. My city...</td>\n",
              "    </tr>\n",
              "    <tr>\n",
              "      <th>3260</th>\n",
              "      <td>10868</td>\n",
              "      <td>NaN</td>\n",
              "      <td>NaN</td>\n",
              "      <td>Green Line derailment in Chicago http://t.co/U...</td>\n",
              "    </tr>\n",
              "    <tr>\n",
              "      <th>3261</th>\n",
              "      <td>10874</td>\n",
              "      <td>NaN</td>\n",
              "      <td>NaN</td>\n",
              "      <td>MEG issues Hazardous Weather Outlook (HWO) htt...</td>\n",
              "    </tr>\n",
              "    <tr>\n",
              "      <th>3262</th>\n",
              "      <td>10875</td>\n",
              "      <td>NaN</td>\n",
              "      <td>NaN</td>\n",
              "      <td>#CityofCalgary has activated its Municipal Eme...</td>\n",
              "    </tr>\n",
              "  </tbody>\n",
              "</table>\n",
              "<p>3263 rows × 4 columns</p>\n",
              "</div>"
            ],
            "text/plain": [
              "         id keyword location                                               text\n",
              "0         0     NaN      NaN                 Just happened a terrible car crash\n",
              "1         2     NaN      NaN  Heard about #earthquake is different cities, s...\n",
              "2         3     NaN      NaN  there is a forest fire at spot pond, geese are...\n",
              "3         9     NaN      NaN           Apocalypse lighting. #Spokane #wildfires\n",
              "4        11     NaN      NaN      Typhoon Soudelor kills 28 in China and Taiwan\n",
              "...     ...     ...      ...                                                ...\n",
              "3258  10861     NaN      NaN  EARTHQUAKE SAFETY LOS ANGELES ÛÒ SAFETY FASTE...\n",
              "3259  10865     NaN      NaN  Storm in RI worse than last hurricane. My city...\n",
              "3260  10868     NaN      NaN  Green Line derailment in Chicago http://t.co/U...\n",
              "3261  10874     NaN      NaN  MEG issues Hazardous Weather Outlook (HWO) htt...\n",
              "3262  10875     NaN      NaN  #CityofCalgary has activated its Municipal Eme...\n",
              "\n",
              "[3263 rows x 4 columns]"
            ]
          },
          "metadata": {
            "tags": []
          },
          "execution_count": 8
        }
      ]
    },
    {
      "cell_type": "code",
      "metadata": {
        "id": "o1mUpoVGuObg",
        "colab_type": "code",
        "outputId": "f4ab6302-b42b-4a1b-850f-b64acf622fff",
        "colab": {
          "base_uri": "https://localhost:8080/",
          "height": 424
        }
      },
      "source": [
        "\n",
        "success"
      ],
      "execution_count": 0,
      "outputs": [
        {
          "output_type": "execute_result",
          "data": {
            "text/html": [
              "<div>\n",
              "<style scoped>\n",
              "    .dataframe tbody tr th:only-of-type {\n",
              "        vertical-align: middle;\n",
              "    }\n",
              "\n",
              "    .dataframe tbody tr th {\n",
              "        vertical-align: top;\n",
              "    }\n",
              "\n",
              "    .dataframe thead th {\n",
              "        text-align: right;\n",
              "    }\n",
              "</style>\n",
              "<table border=\"1\" class=\"dataframe\">\n",
              "  <thead>\n",
              "    <tr style=\"text-align: right;\">\n",
              "      <th></th>\n",
              "      <th>id</th>\n",
              "      <th>target</th>\n",
              "    </tr>\n",
              "  </thead>\n",
              "  <tbody>\n",
              "    <tr>\n",
              "      <th>0</th>\n",
              "      <td>0</td>\n",
              "      <td>0</td>\n",
              "    </tr>\n",
              "    <tr>\n",
              "      <th>1</th>\n",
              "      <td>2</td>\n",
              "      <td>0</td>\n",
              "    </tr>\n",
              "    <tr>\n",
              "      <th>2</th>\n",
              "      <td>3</td>\n",
              "      <td>0</td>\n",
              "    </tr>\n",
              "    <tr>\n",
              "      <th>3</th>\n",
              "      <td>9</td>\n",
              "      <td>0</td>\n",
              "    </tr>\n",
              "    <tr>\n",
              "      <th>4</th>\n",
              "      <td>11</td>\n",
              "      <td>0</td>\n",
              "    </tr>\n",
              "    <tr>\n",
              "      <th>...</th>\n",
              "      <td>...</td>\n",
              "      <td>...</td>\n",
              "    </tr>\n",
              "    <tr>\n",
              "      <th>3258</th>\n",
              "      <td>10861</td>\n",
              "      <td>0</td>\n",
              "    </tr>\n",
              "    <tr>\n",
              "      <th>3259</th>\n",
              "      <td>10865</td>\n",
              "      <td>0</td>\n",
              "    </tr>\n",
              "    <tr>\n",
              "      <th>3260</th>\n",
              "      <td>10868</td>\n",
              "      <td>0</td>\n",
              "    </tr>\n",
              "    <tr>\n",
              "      <th>3261</th>\n",
              "      <td>10874</td>\n",
              "      <td>0</td>\n",
              "    </tr>\n",
              "    <tr>\n",
              "      <th>3262</th>\n",
              "      <td>10875</td>\n",
              "      <td>0</td>\n",
              "    </tr>\n",
              "  </tbody>\n",
              "</table>\n",
              "<p>3263 rows × 2 columns</p>\n",
              "</div>"
            ],
            "text/plain": [
              "         id  target\n",
              "0         0       0\n",
              "1         2       0\n",
              "2         3       0\n",
              "3         9       0\n",
              "4        11       0\n",
              "...     ...     ...\n",
              "3258  10861       0\n",
              "3259  10865       0\n",
              "3260  10868       0\n",
              "3261  10874       0\n",
              "3262  10875       0\n",
              "\n",
              "[3263 rows x 2 columns]"
            ]
          },
          "metadata": {
            "tags": []
          },
          "execution_count": 9
        }
      ]
    },
    {
      "cell_type": "code",
      "metadata": {
        "id": "OUPzL5_oKY4t",
        "colab_type": "code",
        "colab": {}
      },
      "source": [
        "from sklearn.model_selection import train_test_split"
      ],
      "execution_count": 0,
      "outputs": []
    },
    {
      "cell_type": "code",
      "metadata": {
        "id": "BcBp_e6pKokQ",
        "colab_type": "code",
        "colab": {}
      },
      "source": [
        "X_train, X_test, y_train, y_test = train_test_split(train[['text']].values, train[['target']].values, test_size=0.3, random_state=42)\n"
      ],
      "execution_count": 0,
      "outputs": []
    },
    {
      "cell_type": "code",
      "metadata": {
        "id": "2SbnGBNTLsVl",
        "colab_type": "code",
        "outputId": "594d72b2-2015-47de-ee93-1aa531df1d45",
        "colab": {
          "base_uri": "https://localhost:8080/",
          "height": 180
        }
      },
      "source": [
        "X_train"
      ],
      "execution_count": 0,
      "outputs": [
        {
          "output_type": "execute_result",
          "data": {
            "text/plain": [
              "array([['Ashes 2015: Australia\\x89Ûªs collapse at Trent Bridge among worst in history: England bundled out Australia for 60 ... http://t.co/t5TrhjUAU0'],\n",
              "       ['GREAT MICHIGAN TECHNIQUE CAMP\\nB1G THANKS TO @bmurph1019 \\n@hail_Youtsey . @termn8r13 \\n#GoBlue #WrestleOn http://t.co/OasKgki6Qj'],\n",
              "       ['CNN: Tennessee movie theater shooting suspect killed by police http://t.co/dI8ElZsWNR'],\n",
              "       ...,\n",
              "       ['Omron HEM-712C Automatic Blood Pressure Monitor STANDARD AND LARGE BP CUFFS http://t.co/gJBAInQWN9 http://t.co/jPhgpL1c5x'],\n",
              "       ['Officials say a quarantine is in place at an Alabama home over a possible Ebola case after developing symptoms... http://t.co/rqKK15uhEY'],\n",
              "       ['I moved to England five years ago today. What a whirlwind of time it has been! http://t.co/eaSlGeA1B7']],\n",
              "      dtype=object)"
            ]
          },
          "metadata": {
            "tags": []
          },
          "execution_count": 5
        }
      ]
    },
    {
      "cell_type": "code",
      "metadata": {
        "id": "q357eYSRUmyI",
        "colab_type": "code",
        "colab": {}
      },
      "source": [
        "tokenizer= keras.preprocessing.text.Tokenizer(char_level=False)\n",
        "\n",
        "tokenizer.fit_on_texts(train['text'])\n",
        "train['text']=tokenizer.texts_to_sequences(train['text'])"
      ],
      "execution_count": 0,
      "outputs": []
    },
    {
      "cell_type": "code",
      "metadata": {
        "id": "oQmbTY5GZ-uN",
        "colab_type": "code",
        "colab": {}
      },
      "source": [
        "tokenizer= keras.preprocessing.text.Tokenizer(char_level=False)\n",
        "\n",
        "tokenizer.fit_on_texts(train['text'])"
      ],
      "execution_count": 0,
      "outputs": []
    },
    {
      "cell_type": "markdown",
      "metadata": {
        "id": "UhxfUE_vZ-ho",
        "colab_type": "text"
      },
      "source": [
        ""
      ]
    },
    {
      "cell_type": "code",
      "metadata": {
        "id": "92DluGSgLd0G",
        "colab_type": "code",
        "outputId": "afa2014a-17ea-46b1-c322-0d25f867cfcf",
        "colab": {
          "base_uri": "https://localhost:8080/",
          "height": 180
        }
      },
      "source": [
        "X_train"
      ],
      "execution_count": 0,
      "outputs": [
        {
          "output_type": "execute_result",
          "data": {
            "text/plain": [
              "array([['Ashes 2015: Australia\\x89Ûªs collapse at Trent Bridge among worst in history: England bundled out Australia for 60 ... http://t.co/t5TrhjUAU0'],\n",
              "       ['GREAT MICHIGAN TECHNIQUE CAMP\\nB1G THANKS TO @bmurph1019 \\n@hail_Youtsey . @termn8r13 \\n#GoBlue #WrestleOn http://t.co/OasKgki6Qj'],\n",
              "       ['CNN: Tennessee movie theater shooting suspect killed by police http://t.co/dI8ElZsWNR'],\n",
              "       ...,\n",
              "       ['Omron HEM-712C Automatic Blood Pressure Monitor STANDARD AND LARGE BP CUFFS http://t.co/gJBAInQWN9 http://t.co/jPhgpL1c5x'],\n",
              "       ['Officials say a quarantine is in place at an Alabama home over a possible Ebola case after developing symptoms... http://t.co/rqKK15uhEY'],\n",
              "       ['I moved to England five years ago today. What a whirlwind of time it has been! http://t.co/eaSlGeA1B7']],\n",
              "      dtype=object)"
            ]
          },
          "metadata": {
            "tags": []
          },
          "execution_count": 6
        }
      ]
    },
    {
      "cell_type": "code",
      "metadata": {
        "id": "cXaWMhz9UM9U",
        "colab_type": "code",
        "outputId": "0e00bbd5-b3cd-4b10-e48f-911ad1e85b0e",
        "colab": {
          "base_uri": "https://localhost:8080/",
          "height": 172
        }
      },
      "source": [
        "target = X_train[:,0].pop('target')\n"
      ],
      "execution_count": 0,
      "outputs": [
        {
          "output_type": "error",
          "ename": "AttributeError",
          "evalue": "ignored",
          "traceback": [
            "\u001b[0;31m---------------------------------------------------------------------------\u001b[0m",
            "\u001b[0;31mAttributeError\u001b[0m                            Traceback (most recent call last)",
            "\u001b[0;32m<ipython-input-5-429c0cc70df6>\u001b[0m in \u001b[0;36m<module>\u001b[0;34m()\u001b[0m\n\u001b[0;32m----> 1\u001b[0;31m \u001b[0mtarget\u001b[0m \u001b[0;34m=\u001b[0m \u001b[0mX_train\u001b[0m\u001b[0;34m[\u001b[0m\u001b[0;34m:\u001b[0m\u001b[0;34m,\u001b[0m\u001b[0;36m0\u001b[0m\u001b[0;34m]\u001b[0m\u001b[0;34m.\u001b[0m\u001b[0mpop\u001b[0m\u001b[0;34m(\u001b[0m\u001b[0;34m'target'\u001b[0m\u001b[0;34m)\u001b[0m\u001b[0;34m\u001b[0m\u001b[0;34m\u001b[0m\u001b[0m\n\u001b[0m",
            "\u001b[0;31mAttributeError\u001b[0m: 'numpy.ndarray' object has no attribute 'pop'"
          ]
        }
      ]
    },
    {
      "cell_type": "code",
      "metadata": {
        "id": "TLrKBeAOop1n",
        "colab_type": "code",
        "colab": {}
      },
      "source": [
        "train= np.asarray(train)"
      ],
      "execution_count": 0,
      "outputs": []
    },
    {
      "cell_type": "code",
      "metadata": {
        "id": "aedJoc-iotwZ",
        "colab_type": "code",
        "colab": {}
      },
      "source": [
        "target=np.asarray(target)"
      ],
      "execution_count": 0,
      "outputs": []
    },
    {
      "cell_type": "code",
      "metadata": {
        "id": "TDI7YaCU2paK",
        "colab_type": "code",
        "colab": {}
      },
      "source": [
        "train=train.dropna()"
      ],
      "execution_count": 0,
      "outputs": []
    },
    {
      "cell_type": "code",
      "metadata": {
        "id": "knJ1WEK12vez",
        "colab_type": "code",
        "outputId": "da149b5c-1fd7-4b41-931d-a10cef20ce1f",
        "colab": {
          "base_uri": "https://localhost:8080/",
          "height": 424
        }
      },
      "source": [
        "train"
      ],
      "execution_count": 0,
      "outputs": [
        {
          "output_type": "execute_result",
          "data": {
            "text/html": [
              "<div>\n",
              "<style scoped>\n",
              "    .dataframe tbody tr th:only-of-type {\n",
              "        vertical-align: middle;\n",
              "    }\n",
              "\n",
              "    .dataframe tbody tr th {\n",
              "        vertical-align: top;\n",
              "    }\n",
              "\n",
              "    .dataframe thead th {\n",
              "        text-align: right;\n",
              "    }\n",
              "</style>\n",
              "<table border=\"1\" class=\"dataframe\">\n",
              "  <thead>\n",
              "    <tr style=\"text-align: right;\">\n",
              "      <th></th>\n",
              "      <th>id</th>\n",
              "      <th>keyword</th>\n",
              "      <th>location</th>\n",
              "      <th>text</th>\n",
              "    </tr>\n",
              "  </thead>\n",
              "  <tbody>\n",
              "    <tr>\n",
              "      <th>0</th>\n",
              "      <td>1</td>\n",
              "      <td>NaN</td>\n",
              "      <td>NaN</td>\n",
              "      <td>[119, 4633, 24, 4, 868, 8, 21, 263, 138, 1619,...</td>\n",
              "    </tr>\n",
              "    <tr>\n",
              "      <th>1</th>\n",
              "      <td>4</td>\n",
              "      <td>NaN</td>\n",
              "      <td>NaN</td>\n",
              "      <td>[189, 45, 229, 799, 6954, 6955, 1404]</td>\n",
              "    </tr>\n",
              "    <tr>\n",
              "      <th>2</th>\n",
              "      <td>5</td>\n",
              "      <td>NaN</td>\n",
              "      <td>NaN</td>\n",
              "      <td>[40, 1751, 1620, 7, 6956, 6, 6957, 24, 136, 69...</td>\n",
              "    </tr>\n",
              "    <tr>\n",
              "      <th>3</th>\n",
              "      <td>6</td>\n",
              "      <td>NaN</td>\n",
              "      <td>NaN</td>\n",
              "      <td>[835, 2921, 59, 4635, 1500, 256, 1405, 6, 96]</td>\n",
              "    </tr>\n",
              "    <tr>\n",
              "      <th>4</th>\n",
              "      <td>7</td>\n",
              "      <td>NaN</td>\n",
              "      <td>NaN</td>\n",
              "      <td>[34, 100, 1221, 21, 320, 22, 6959, 2159, 30, 2...</td>\n",
              "    </tr>\n",
              "    <tr>\n",
              "      <th>...</th>\n",
              "      <td>...</td>\n",
              "      <td>...</td>\n",
              "      <td>...</td>\n",
              "      <td>...</td>\n",
              "    </tr>\n",
              "    <tr>\n",
              "      <th>7608</th>\n",
              "      <td>10869</td>\n",
              "      <td>NaN</td>\n",
              "      <td>NaN</td>\n",
              "      <td>[114, 861, 1372, 1089, 5, 373, 163, 69, 684, 2...</td>\n",
              "    </tr>\n",
              "    <tr>\n",
              "      <th>7609</th>\n",
              "      <td>10870</td>\n",
              "      <td>NaN</td>\n",
              "      <td>NaN</td>\n",
              "      <td>[6920, 6921, 6922, 4, 38, 8, 752, 262, 115, 6,...</td>\n",
              "    </tr>\n",
              "    <tr>\n",
              "      <th>7610</th>\n",
              "      <td>10871</td>\n",
              "      <td>NaN</td>\n",
              "      <td>NaN</td>\n",
              "      <td>[2824, 2401, 709, 1214, 1607, 1608, 107, 8, 59...</td>\n",
              "    </tr>\n",
              "    <tr>\n",
              "      <th>7611</th>\n",
              "      <td>10872</td>\n",
              "      <td>NaN</td>\n",
              "      <td>NaN</td>\n",
              "      <td>[78, 1145, 41, 43, 579, 2312, 342, 16, 5, 130,...</td>\n",
              "    </tr>\n",
              "    <tr>\n",
              "      <th>7612</th>\n",
              "      <td>10873</td>\n",
              "      <td>NaN</td>\n",
              "      <td>NaN</td>\n",
              "      <td>[4, 209, 54, 210, 546, 20, 198, 96, 180, 704, ...</td>\n",
              "    </tr>\n",
              "  </tbody>\n",
              "</table>\n",
              "<p>7613 rows × 4 columns</p>\n",
              "</div>"
            ],
            "text/plain": [
              "         id keyword location                                               text\n",
              "0         1     NaN      NaN  [119, 4633, 24, 4, 868, 8, 21, 263, 138, 1619,...\n",
              "1         4     NaN      NaN              [189, 45, 229, 799, 6954, 6955, 1404]\n",
              "2         5     NaN      NaN  [40, 1751, 1620, 7, 6956, 6, 6957, 24, 136, 69...\n",
              "3         6     NaN      NaN      [835, 2921, 59, 4635, 1500, 256, 1405, 6, 96]\n",
              "4         7     NaN      NaN  [34, 100, 1221, 21, 320, 22, 6959, 2159, 30, 2...\n",
              "...     ...     ...      ...                                                ...\n",
              "7608  10869     NaN      NaN  [114, 861, 1372, 1089, 5, 373, 163, 69, 684, 2...\n",
              "7609  10870     NaN      NaN  [6920, 6921, 6922, 4, 38, 8, 752, 262, 115, 6,...\n",
              "7610  10871     NaN      NaN  [2824, 2401, 709, 1214, 1607, 1608, 107, 8, 59...\n",
              "7611  10872     NaN      NaN  [78, 1145, 41, 43, 579, 2312, 342, 16, 5, 130,...\n",
              "7612  10873     NaN      NaN  [4, 209, 54, 210, 546, 20, 198, 96, 180, 704, ...\n",
              "\n",
              "[7613 rows x 4 columns]"
            ]
          },
          "metadata": {
            "tags": []
          },
          "execution_count": 177
        }
      ]
    },
    {
      "cell_type": "code",
      "metadata": {
        "id": "KuZFJUZAURt8",
        "colab_type": "code",
        "outputId": "bbb51c5c-150b-4f78-e0aa-b7a716cb38ae",
        "colab": {
          "base_uri": "https://localhost:8080/",
          "height": 127
        }
      },
      "source": [
        "dataset = tf.data.Dataset.from_tensor_slices((X_train[:,0],y_train))\n",
        "for feat, targ in dataset.take(5):\n",
        "  print ('Features: {}, Target: {}'.format(feat, targ))\n"
      ],
      "execution_count": 0,
      "outputs": [
        {
          "output_type": "stream",
          "text": [
            "Features: b'Ashes 2015: Australia\\xc2\\x89\\xc3\\x9b\\xc2\\xaas collapse at Trent Bridge among worst in history: England bundled out Australia for 60 ... http://t.co/t5TrhjUAU0', Target: [0]\n",
            "Features: b'GREAT MICHIGAN TECHNIQUE CAMP\\nB1G THANKS TO @bmurph1019 \\n@hail_Youtsey . @termn8r13 \\n#GoBlue #WrestleOn http://t.co/OasKgki6Qj', Target: [1]\n",
            "Features: b'CNN: Tennessee movie theater shooting suspect killed by police http://t.co/dI8ElZsWNR', Target: [1]\n",
            "Features: b'Still rioting in a couple of hours left until I have to be up for class.', Target: [1]\n",
            "Features: b'Crack in the path where I wiped out this morning during beach run. Surface wounds on left elbow and right knee. http://t.co/yaqRSximph', Target: [0]\n"
          ],
          "name": "stdout"
        }
      ]
    },
    {
      "cell_type": "code",
      "metadata": {
        "id": "8G_flZhZyEq6",
        "colab_type": "code",
        "colab": {}
      },
      "source": [
        "dataset2 = tf.data.Dataset.from_tensor_slices((X_test[:,0],y_test))"
      ],
      "execution_count": 0,
      "outputs": []
    },
    {
      "cell_type": "code",
      "metadata": {
        "id": "U56JG0bELPv7",
        "colab_type": "code",
        "colab": {}
      },
      "source": [
        "def preprocess(X_batch,y_batch):\n",
        "    X_batch=X_batch[:,0]\n",
        "    X_batch = tf.strings.substr(X_batch, 0, 300)\n",
        "    X_batch = tf.strings.regex_replace(X_batch, b\"<br\\s*/?>\", b\" \")\n",
        "    X_batch = tf.strings.regex_replace(X_batch, b\"[^a-zA-Z']\", b\" \")\n",
        "    X_batch = tf.strings.split(X_batch)\n",
        "    return X_batch.to_tensor(default_value=b\"<pad>\"),y_batch"
      ],
      "execution_count": 0,
      "outputs": []
    },
    {
      "cell_type": "code",
      "metadata": {
        "id": "nyPhz76WXo9o",
        "colab_type": "code",
        "colab": {}
      },
      "source": [
        "from collections import Counter\n",
        "vocab=Counter()\n",
        "for i,j in dataset.batch(32).map(preprocess):\n",
        "  for k in i:\n",
        "    vocab.update(list(k.numpy()))"
      ],
      "execution_count": 0,
      "outputs": []
    },
    {
      "cell_type": "code",
      "metadata": {
        "id": "R9uDHxXbSQYC",
        "colab_type": "code",
        "outputId": "f189210d-2d7f-4b8a-b879-e912e22fbdaa",
        "colab": {
          "base_uri": "https://localhost:8080/",
          "height": 35
        }
      },
      "source": [
        "vocab.most_common()[:3]"
      ],
      "execution_count": 0,
      "outputs": [
        {
          "output_type": "execute_result",
          "data": {
            "text/plain": [
              "[(b'<pad>', 52172), (b't', 3373), (b'co', 3322)]"
            ]
          },
          "metadata": {
            "tags": []
          },
          "execution_count": 27
        }
      ]
    },
    {
      "cell_type": "code",
      "metadata": {
        "id": "rq_Zvuf2L-tE",
        "colab_type": "code",
        "colab": {}
      },
      "source": [
        "vocab_size=50000\n",
        "tr_vcb=[x for x,c in vocab.most_common()[:vocab_size]]"
      ],
      "execution_count": 0,
      "outputs": []
    },
    {
      "cell_type": "code",
      "metadata": {
        "id": "Kh4xy4nQOdIs",
        "colab_type": "code",
        "colab": {}
      },
      "source": [
        "words=tf.constant(tr_vcb)\n",
        "word_ids= tf.range(len(tr_vcb),dtype=tf.int64)\n",
        "vocab_init= tf.lookup.KeyValueTensorInitializer(words,word_ids)\n",
        "n_o=5000\n",
        "table=tf.lookup.StaticVocabularyTable(vocab_init,n_o)"
      ],
      "execution_count": 0,
      "outputs": []
    },
    {
      "cell_type": "code",
      "metadata": {
        "id": "rvzSfv-WSZT4",
        "colab_type": "code",
        "outputId": "ab958822-cbca-44d1-f2f7-5eeaa7656cd9",
        "colab": {
          "base_uri": "https://localhost:8080/",
          "height": 35
        }
      },
      "source": [
        "table.lookup(tf.constant([b\"This disaster was faaaaaantastic\".split()]))"
      ],
      "execution_count": 0,
      "outputs": [
        {
          "output_type": "execute_result",
          "data": {
            "text/plain": [
              "<tf.Tensor: shape=(1, 4), dtype=int64, numpy=array([[   88,    89,    29, 24893]])>"
            ]
          },
          "metadata": {
            "tags": []
          },
          "execution_count": 30
        }
      ]
    },
    {
      "cell_type": "code",
      "metadata": {
        "id": "6Iylk6PjPOBx",
        "colab_type": "code",
        "colab": {}
      },
      "source": [
        "def encode_words(X_batch,y_batch):\n",
        "  return table.lookup(X_batch),y_batch"
      ],
      "execution_count": 0,
      "outputs": []
    },
    {
      "cell_type": "code",
      "metadata": {
        "id": "P9vpV5UyZCy4",
        "colab_type": "code",
        "colab": {}
      },
      "source": [
        "test_set=dataset2.repeat().batch(32).map(preprocess)"
      ],
      "execution_count": 0,
      "outputs": []
    },
    {
      "cell_type": "code",
      "metadata": {
        "id": "lYDVBKiBZGvj",
        "colab_type": "code",
        "colab": {}
      },
      "source": [
        "\n",
        "test_set=test_set.map(encode_words).prefetch(1)"
      ],
      "execution_count": 0,
      "outputs": []
    },
    {
      "cell_type": "code",
      "metadata": {
        "id": "2Ehu7fVLPhEK",
        "colab_type": "code",
        "colab": {}
      },
      "source": [
        "train_set=dataset.repeat().batch(32).map(preprocess)"
      ],
      "execution_count": 0,
      "outputs": []
    },
    {
      "cell_type": "code",
      "metadata": {
        "id": "94t-NPq1VRMV",
        "colab_type": "code",
        "outputId": "83139e5d-a046-4f45-ec49-03b7fcaff557",
        "colab": {
          "base_uri": "https://localhost:8080/",
          "height": 35
        }
      },
      "source": [
        "train_set"
      ],
      "execution_count": 0,
      "outputs": [
        {
          "output_type": "execute_result",
          "data": {
            "text/plain": [
              "<MapDataset shapes: ((None, None), (None, 1)), types: (tf.string, tf.int64)>"
            ]
          },
          "metadata": {
            "tags": []
          },
          "execution_count": 35
        }
      ]
    },
    {
      "cell_type": "code",
      "metadata": {
        "id": "5U_1HT65PqQM",
        "colab_type": "code",
        "colab": {}
      },
      "source": [
        "\n",
        "train_set=train_set.map(encode_words).prefetch(1)"
      ],
      "execution_count": 0,
      "outputs": []
    },
    {
      "cell_type": "code",
      "metadata": {
        "id": "53CN-kXwPyfv",
        "colab_type": "code",
        "outputId": "4f6363d8-b685-422f-a7dc-4158f93530de",
        "colab": {
          "base_uri": "https://localhost:8080/",
          "height": 234
        }
      },
      "source": [
        "embed_size = 128\n",
        "model = keras.models.Sequential([\n",
        "    keras.layers.Embedding(vocab_size + n_o, embed_size,\n",
        "                           mask_zero=True, # not shown in the book\n",
        "                           input_shape=[None]),\n",
        "    keras.layers.GRU(128, return_sequences=True),\n",
        "    keras.layers.GRU(128),\n",
        "    keras.layers.Dense(1, activation=\"sigmoid\")\n",
        "])\n",
        "model.compile(loss=\"binary_crossentropy\", optimizer=\"adam\", metrics=[\"accuracy\"])\n",
        "history = model.fit(train_set, epochs=20, validation_data=test_set)"
      ],
      "execution_count": 0,
      "outputs": [
        {
          "output_type": "stream",
          "text": [
            "Train for 167 steps, validate for 72 steps\n",
            "Epoch 1/5\n",
            "167/167 [==============================] - 35s 210ms/step - loss: 0.5520 - accuracy: 0.7174 - val_loss: 0.4570 - val_accuracy: 0.7999\n",
            "Epoch 2/5\n",
            "167/167 [==============================] - 29s 172ms/step - loss: 0.2071 - accuracy: 0.9176 - val_loss: 0.6581 - val_accuracy: 0.7579\n",
            "Epoch 3/5\n",
            "167/167 [==============================] - 29s 173ms/step - loss: 0.0612 - accuracy: 0.9831 - val_loss: 0.8116 - val_accuracy: 0.7574\n",
            "Epoch 4/5\n",
            "167/167 [==============================] - 29s 173ms/step - loss: 0.0328 - accuracy: 0.9917 - val_loss: 0.7479 - val_accuracy: 0.7557\n",
            "Epoch 5/5\n",
            "167/167 [==============================] - 29s 173ms/step - loss: 0.0236 - accuracy: 0.9940 - val_loss: 0.8452 - val_accuracy: 0.7623\n"
          ],
          "name": "stdout"
        }
      ]
    },
    {
      "cell_type": "code",
      "metadata": {
        "id": "SPu9zh9pQRaj",
        "colab_type": "code",
        "colab": {}
      },
      "source": [
        "sub_padded = keras.preprocessing.sequence.pad_sequences(tokenizer.texts_to_sequences(test[['text']].values[:,0]), padding='post', maxlen=20)"
      ],
      "execution_count": 0,
      "outputs": []
    },
    {
      "cell_type": "code",
      "metadata": {
        "id": "C5QYL5jvooT-",
        "colab_type": "code",
        "colab": {}
      },
      "source": [
        "sub_padded=tf.convert_to_tensor(test[\"text\"])\n"
      ],
      "execution_count": 0,
      "outputs": []
    },
    {
      "cell_type": "code",
      "metadata": {
        "id": "Y0ncCkLcZrF4",
        "colab_type": "code",
        "colab": {}
      },
      "source": [
        "test['target'] = model.predict(sub_padded)\n",
        "test['target'] = test['target'].apply(lambda x: int(x > 0.5))"
      ],
      "execution_count": 0,
      "outputs": []
    },
    {
      "cell_type": "code",
      "metadata": {
        "id": "PbE9tAnAbNgc",
        "colab_type": "code",
        "outputId": "af123f6d-f026-45b8-eb40-cd5424677f60",
        "colab": {
          "base_uri": "https://localhost:8080/",
          "height": 206
        }
      },
      "source": [
        "sub = test[['id', 'target']]\n",
        "sub.head()"
      ],
      "execution_count": 0,
      "outputs": [
        {
          "output_type": "execute_result",
          "data": {
            "text/html": [
              "<div>\n",
              "<style scoped>\n",
              "    .dataframe tbody tr th:only-of-type {\n",
              "        vertical-align: middle;\n",
              "    }\n",
              "\n",
              "    .dataframe tbody tr th {\n",
              "        vertical-align: top;\n",
              "    }\n",
              "\n",
              "    .dataframe thead th {\n",
              "        text-align: right;\n",
              "    }\n",
              "</style>\n",
              "<table border=\"1\" class=\"dataframe\">\n",
              "  <thead>\n",
              "    <tr style=\"text-align: right;\">\n",
              "      <th></th>\n",
              "      <th>id</th>\n",
              "      <th>target</th>\n",
              "    </tr>\n",
              "  </thead>\n",
              "  <tbody>\n",
              "    <tr>\n",
              "      <th>0</th>\n",
              "      <td>0</td>\n",
              "      <td>1</td>\n",
              "    </tr>\n",
              "    <tr>\n",
              "      <th>1</th>\n",
              "      <td>2</td>\n",
              "      <td>1</td>\n",
              "    </tr>\n",
              "    <tr>\n",
              "      <th>2</th>\n",
              "      <td>3</td>\n",
              "      <td>1</td>\n",
              "    </tr>\n",
              "    <tr>\n",
              "      <th>3</th>\n",
              "      <td>9</td>\n",
              "      <td>0</td>\n",
              "    </tr>\n",
              "    <tr>\n",
              "      <th>4</th>\n",
              "      <td>11</td>\n",
              "      <td>1</td>\n",
              "    </tr>\n",
              "  </tbody>\n",
              "</table>\n",
              "</div>"
            ],
            "text/plain": [
              "   id  target\n",
              "0   0       1\n",
              "1   2       1\n",
              "2   3       1\n",
              "3   9       0\n",
              "4  11       1"
            ]
          },
          "metadata": {
            "tags": []
          },
          "execution_count": 68
        }
      ]
    },
    {
      "cell_type": "code",
      "metadata": {
        "id": "-XlfSkXFe-Q8",
        "colab_type": "code",
        "colab": {}
      },
      "source": [
        "\n",
        "\n",
        "sub.to_csv('submission.csv', index=False)\n",
        "\n"
      ],
      "execution_count": 0,
      "outputs": []
    },
    {
      "cell_type": "code",
      "metadata": {
        "id": "LOGtRNRHg90n",
        "colab_type": "code",
        "colab": {}
      },
      "source": [
        "import tensorflow_hub as hub"
      ],
      "execution_count": 0,
      "outputs": []
    },
    {
      "cell_type": "code",
      "metadata": {
        "id": "z-hK_8LXfDWa",
        "colab_type": "code",
        "colab": {}
      },
      "source": [
        "model = keras.Sequential([\n",
        "    hub.KerasLayer(\"https://tfhub.dev/google/tf2-preview/nnlm-en-dim50/1\",\n",
        "                   dtype=tf.string, input_shape=[], output_shape=[50]),\n",
        "    keras.layers.Dense(128, activation=\"relu\"),\n",
        "    keras.layers.Dense(1, activation=\"sigmoid\")\n",
        "])\n",
        "model.compile(loss=\"binary_crossentropy\", optimizer=\"adam\",\n",
        "              metrics=[\"accuracy\"])"
      ],
      "execution_count": 0,
      "outputs": []
    },
    {
      "cell_type": "code",
      "metadata": {
        "id": "Pl1s5N9kiFuk",
        "colab_type": "code",
        "colab": {}
      },
      "source": [
        "train_set=dataset.repeat().batch(32).prefetch(1)\n",
        "test_set=dataset2.repeat().batch(32).prefetch(1)"
      ],
      "execution_count": 0,
      "outputs": []
    },
    {
      "cell_type": "code",
      "metadata": {
        "id": "HrolbuKtg-hx",
        "colab_type": "code",
        "outputId": "e6513c12-7520-4c05-ca46-e6a676700e15",
        "colab": {
          "base_uri": "https://localhost:8080/",
          "height": 772
        }
      },
      "source": [
        "history = model.fit(train_set,steps_per_epoch=200, epochs=20, validation_data=test_set,validation_steps=200)"
      ],
      "execution_count": 0,
      "outputs": [
        {
          "output_type": "stream",
          "text": [
            "Train for 200 steps, validate for 200 steps\n",
            "Epoch 1/20\n",
            "200/200 [==============================] - 28s 139ms/step - loss: 0.5546 - accuracy: 0.7339 - val_loss: 0.4956 - val_accuracy: 0.7763\n",
            "Epoch 2/20\n",
            "200/200 [==============================] - 27s 137ms/step - loss: 0.4948 - accuracy: 0.7656 - val_loss: 0.4827 - val_accuracy: 0.7811\n",
            "Epoch 3/20\n",
            "200/200 [==============================] - 27s 137ms/step - loss: 0.4888 - accuracy: 0.7723 - val_loss: 0.4802 - val_accuracy: 0.7820\n",
            "Epoch 4/20\n",
            "200/200 [==============================] - 27s 137ms/step - loss: 0.4834 - accuracy: 0.7766 - val_loss: 0.4773 - val_accuracy: 0.7837\n",
            "Epoch 5/20\n",
            "200/200 [==============================] - 27s 137ms/step - loss: 0.4792 - accuracy: 0.7744 - val_loss: 0.4766 - val_accuracy: 0.7811\n",
            "Epoch 6/20\n",
            "200/200 [==============================] - 27s 137ms/step - loss: 0.4749 - accuracy: 0.7764 - val_loss: 0.4751 - val_accuracy: 0.7844\n",
            "Epoch 7/20\n",
            "200/200 [==============================] - 27s 137ms/step - loss: 0.4582 - accuracy: 0.7894 - val_loss: 0.4728 - val_accuracy: 0.7864\n",
            "Epoch 8/20\n",
            "200/200 [==============================] - 27s 137ms/step - loss: 0.4586 - accuracy: 0.7902 - val_loss: 0.4740 - val_accuracy: 0.7805\n",
            "Epoch 9/20\n",
            "200/200 [==============================] - 27s 137ms/step - loss: 0.4565 - accuracy: 0.7914 - val_loss: 0.4715 - val_accuracy: 0.7828\n",
            "Epoch 10/20\n",
            "200/200 [==============================] - 28s 138ms/step - loss: 0.4501 - accuracy: 0.7933 - val_loss: 0.4724 - val_accuracy: 0.7831\n",
            "Epoch 11/20\n",
            "200/200 [==============================] - 27s 137ms/step - loss: 0.4467 - accuracy: 0.7919 - val_loss: 0.4725 - val_accuracy: 0.7834\n",
            "Epoch 12/20\n",
            "200/200 [==============================] - 27s 137ms/step - loss: 0.4296 - accuracy: 0.8067 - val_loss: 0.4716 - val_accuracy: 0.7870\n",
            "Epoch 13/20\n",
            "200/200 [==============================] - 27s 137ms/step - loss: 0.4317 - accuracy: 0.8011 - val_loss: 0.4734 - val_accuracy: 0.7834\n",
            "Epoch 14/20\n",
            "200/200 [==============================] - 27s 137ms/step - loss: 0.4308 - accuracy: 0.8023 - val_loss: 0.4713 - val_accuracy: 0.7848\n",
            "Epoch 15/20\n",
            "200/200 [==============================] - 27s 137ms/step - loss: 0.4228 - accuracy: 0.8055 - val_loss: 0.4740 - val_accuracy: 0.7828\n",
            "Epoch 16/20\n",
            "200/200 [==============================] - 27s 137ms/step - loss: 0.4189 - accuracy: 0.8064 - val_loss: 0.4753 - val_accuracy: 0.7811\n",
            "Epoch 17/20\n",
            "200/200 [==============================] - 27s 137ms/step - loss: 0.4045 - accuracy: 0.8217 - val_loss: 0.4745 - val_accuracy: 0.7859\n",
            "Epoch 18/20\n",
            "200/200 [==============================] - 27s 137ms/step - loss: 0.4072 - accuracy: 0.8169 - val_loss: 0.4767 - val_accuracy: 0.7837\n",
            "Epoch 19/20\n",
            "200/200 [==============================] - 27s 137ms/step - loss: 0.4076 - accuracy: 0.8195 - val_loss: 0.4749 - val_accuracy: 0.7830\n",
            "Epoch 20/20\n",
            "200/200 [==============================] - 27s 137ms/step - loss: 0.3979 - accuracy: 0.8236 - val_loss: 0.4788 - val_accuracy: 0.7753\n"
          ],
          "name": "stdout"
        }
      ]
    },
    {
      "cell_type": "code",
      "metadata": {
        "id": "5nolBduphIsR",
        "colab_type": "code",
        "colab": {}
      },
      "source": [
        ""
      ],
      "execution_count": 0,
      "outputs": []
    }
  ]
}